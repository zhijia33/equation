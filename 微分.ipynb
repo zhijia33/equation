{
 "cells": [
  {
   "cell_type": "code",
   "execution_count": 1,
   "id": "2f406805",
   "metadata": {},
   "outputs": [
    {
     "name": "stdout",
     "output_type": "stream",
     "text": [
      "6*x\n",
      "12.0\n"
     ]
    }
   ],
   "source": [
    "import sympy as sp\n",
    "x=sp.Symbol('x')\n",
    "print(sp.diff(3*x**2+1,x))\n",
    "\n",
    "from scipy.misc import derivative\n",
    "def f(x):\n",
    "    return 3*x**2+1\n",
    "print(derivative(f,2))\n"
   ]
  },
  {
   "cell_type": "code",
   "execution_count": null,
   "id": "f08e873d",
   "metadata": {},
   "outputs": [],
   "source": [
    "def d(x):\n",
    "    return derivative(f,x)\n",
    "print(d(2))\n",
    "\n",
    "%matplotlib inline\n",
    "import matplotlib.pyplot as plt\n",
    "import numpy as np\n",
    "\n",
    "y=np.linspace(-3,3)\n",
    "plt.plot"
   ]
  }
 ],
 "metadata": {
  "kernelspec": {
   "display_name": "Python 3 (ipykernel)",
   "language": "python",
   "name": "python3"
  },
  "language_info": {
   "codemirror_mode": {
    "name": "ipython",
    "version": 3
   },
   "file_extension": ".py",
   "mimetype": "text/x-python",
   "name": "python",
   "nbconvert_exporter": "python",
   "pygments_lexer": "ipython3",
   "version": "3.9.7"
  }
 },
 "nbformat": 4,
 "nbformat_minor": 5
}
