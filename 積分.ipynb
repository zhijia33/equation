{
 "cells": [
  {
   "cell_type": "code",
   "execution_count": 2,
   "id": "446eea0f",
   "metadata": {},
   "outputs": [
    {
     "name": "stdout",
     "output_type": "stream",
     "text": [
      "Please input dx=4\n",
      "area= 20.0\n"
     ]
    }
   ],
   "source": [
    "import numpy as np\n",
    "dx=float(input('Please input dx='))\n",
    "area=0\n",
    "y=0\n",
    "for x in np.arange(2,5,dx):\n",
    "    y=(x**2)+1\n",
    "    area=area+(y*dx)\n",
    "print('area=',area)"
   ]
  },
  {
   "cell_type": "code",
   "execution_count": 3,
   "id": "21001aa0",
   "metadata": {},
   "outputs": [],
   "source": [
    "#積分1"
   ]
  },
  {
   "cell_type": "code",
   "execution_count": 4,
   "id": "378c496a",
   "metadata": {},
   "outputs": [
    {
     "data": {
      "text/latex": [
       "$\\displaystyle 1.0 x^{3} + 1.0 x$"
      ],
      "text/plain": [
       "1.0*x**3 + 1.0*x"
      ]
     },
     "execution_count": 4,
     "metadata": {},
     "output_type": "execute_result"
    }
   ],
   "source": [
    "import sympy as sp\n",
    "x=sp.Symbol('x')\n",
    "sp.integrate(3.0*x**2+1,x)"
   ]
  },
  {
   "cell_type": "code",
   "execution_count": 7,
   "id": "d8c27b5a",
   "metadata": {},
   "outputs": [
    {
     "name": "stdout",
     "output_type": "stream",
     "text": [
      "10.000000000000002\n"
     ]
    }
   ],
   "source": [
    "from scipy.integrate import quad\n",
    "def f(x):\n",
    "    return 3*x**2+1\n",
    "i=quad(f,0,2)\n",
    "print(i[0])"
   ]
  },
  {
   "cell_type": "code",
   "execution_count": 10,
   "id": "abcf2094",
   "metadata": {},
   "outputs": [
    {
     "data": {
      "text/latex": [
       "$\\displaystyle - 0.333333333333333 \\cos{\\left(3.0 x \\right)}$"
      ],
      "text/plain": [
       "-0.333333333333333*cos(3.0*x)"
      ]
     },
     "execution_count": 10,
     "metadata": {},
     "output_type": "execute_result"
    }
   ],
   "source": [
    "import sympy as sp\n",
    "x=sp.Symbol('x')\n",
    "sp.integrate(sp.sin(3.0*x),x)"
   ]
  },
  {
   "cell_type": "code",
   "execution_count": null,
   "id": "0760c33a",
   "metadata": {},
   "outputs": [],
   "source": [
    "#quad函數設定積分指定值\n",
    "from scipy.integrate import quad\n",
    "import numpy as np\n",
    "def f(x):\n",
    "    return np.exp(-x)*np.sin(3*x)\n",
    "i=quad(f,0,2*np.pi)\n",
    "prni"
   ]
  }
 ],
 "metadata": {
  "kernelspec": {
   "display_name": "Python 3 (ipykernel)",
   "language": "python",
   "name": "python3"
  },
  "language_info": {
   "codemirror_mode": {
    "name": "ipython",
    "version": 3
   },
   "file_extension": ".py",
   "mimetype": "text/x-python",
   "name": "python",
   "nbconvert_exporter": "python",
   "pygments_lexer": "ipython3",
   "version": "3.9.7"
  }
 },
 "nbformat": 4,
 "nbformat_minor": 5
}
